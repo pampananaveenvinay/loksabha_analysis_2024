{
 "cells": [
  {
   "cell_type": "code",
   "execution_count": 2,
   "id": "8964d72c-0a0b-426a-b2f1-07413bac238f",
   "metadata": {},
   "outputs": [],
   "source": [
    "from bs4 import BeautifulSoup\n",
    "import requests"
   ]
  },
  {
   "cell_type": "code",
   "execution_count": 3,
   "id": "e1233afb-ef86-42a1-8c55-4b960ba7bd18",
   "metadata": {},
   "outputs": [],
   "source": [
    "url = 'https://results.eci.gov.in'\n",
    "page = requests.get(url)\n",
    "soup = BeautifulSoup(page.text,'html')"
   ]
  },
  {
   "cell_type": "code",
   "execution_count": 10,
   "id": "ee8990f6-594f-4eef-b184-dc5e16f2476f",
   "metadata": {},
   "outputs": [
    {
     "name": "stdout",
     "output_type": "stream",
     "text": [
      "<!DOCTYPE html>\n",
      "<html lang=\"en\">\n",
      "<head>\n",
      "<!-- Required meta tags -->\n",
      "<meta charset=\"utf-8\"/>\n",
      "<meta content=\"width=device-width, initial-scale=1\" name=\"viewport\"/>\n",
      "<!-- Bootstrap CSS -->\n",
      "<link href=\"css/bootstrap.min.css\" rel=\"stylesheet\"/>\n",
      "<link href=\"css/custom.css\" rel=\"stylesheet\"/>\n",
      "<link href=\"css/responsive.css\" rel=\"stylesheet\"/>\n",
      "<link href=\"css/font.css\" rel=\"stylesheet\"/>\n",
      "<link href=\"img/icons/favicon.ico\" rel=\"shortcut icon\" type=\"image/x-icon\"/>\n",
      "<title>Election Commission of India</title>\n",
      "<style type=\"text/css\">\n",
      "</style>\n",
      "<script>!function(a){var e=\"https://s.go-mpulse.net/boomerang/\",t=\"addEventListener\";if(\"False\"==\"True\")a.BOOMR_config=a.BOOMR_config||{},a.BOOMR_config.PageParams=a.BOOMR_config.PageParams||{},a.BOOMR_config.PageParams.pci=!0,e=\"https://s2.go-mpulse.net/boomerang/\";if(window.BOOMR_API_key=\"C8JDA-BHWH8-9MQ5M-HKZCP-GH7SB\",function(){function n(e){a.BOOMR_onload=e&&e.timeStamp||(new Date).getTime()}if(!a.BOOMR||!a.BOOMR.version&&!a.BOOMR.snippetExecuted){a.BOOMR=a.BOOMR||{},a.BOOMR.snippetExecuted=!0;var i,_,o,r=document.createElement(\"iframe\");if(a[t])a[t](\"load\",n,!1);else if(a.attachEvent)a.attachEvent(\"onload\",n);r.src=\"javascript:void(0)\",r.title=\"\",r.role=\"presentation\",(r.frameElement||r).style.cssText=\"width:0;height:0;border:0;display:none;\",o=document.getElementsByTagName(\"script\")[0],o.parentNode.insertBefore(r,o);try{_=r.contentWindow.document}catch(O){i=document.domain,r.src=\"javascript:var d=document.open();d.domain='\"+i+\"';void(0);\",_=r.contentWindow.document}_.open()._l=function(){var a=this.createElement(\"script\");if(i)this.domain=i;a.id=\"boomr-if-as\",a.src=e+\"C8JDA-BHWH8-9MQ5M-HKZCP-GH7SB\",BOOMR_lstart=(new Date).getTime(),this.body.appendChild(a)},_.write(\"<bo\"+'dy onload=\"document._l();\">'),_.close()}}(),\"\".length>0)if(a&&\"performance\"in a&&a.performance&&\"function\"==typeof a.performance.setResourceTimingBufferSize)a.performance.setResourceTimingBufferSize();!function(){if(BOOMR=a.BOOMR||{},BOOMR.plugins=BOOMR.plugins||{},!BOOMR.plugins.AK){var e=\"\"==\"true\"?1:0,t=\"\",n=\"fv3rybaxf25ywzt4a3pq-f-739586a12-clientnsv4-s.akamaihd.net\",i=\"false\"==\"true\"?2:1,_={\"ak.v\":\"37\",\"ak.cp\":\"1109753\",\"ak.ai\":parseInt(\"537121\",10),\"ak.ol\":\"0\",\"ak.cr\":278,\"ak.ipv\":4,\"ak.proto\":\"http/1.1\",\"ak.rid\":\"3dc46636\",\"ak.r\":37656,\"ak.a2\":e,\"ak.m\":\"b\",\"ak.n\":\"ff\",\"ak.bpcip\":\"45.119.28.0\",\"ak.cport\":40483,\"ak.gh\":\"23.46.187.135\",\"ak.quicv\":\"\",\"ak.tlsv\":\"tls1.3\",\"ak.0rtt\":\"\",\"ak.csrc\":\"-\",\"ak.acc\":\"reno\",\"ak.t\":\"1719404255\",\"ak.ak\":\"hOBiQwZUYzCg5VSAfCLimQ==CGxG1vaoOA+ZcgWKQDSY7I7u+Q3xqVVNQVKadWCIslJnX545X5vX1SDBzIYFPVC6IB+ImJB4o7jA4SzwFmO7jt1I53hGdaUkoR2ccoidMcMSr6b49WuEpNtfHKpDOgjIgQ2nNIlOLSFliYTo9yWu1u9GnfvtqlG5KgEZFaE+TnwBM9lCXMvXqKRVghe4ByzQb50pvyw8si3R0ct7vG6mVnwlOPn/3llDEPDIygXi8FH91I12BCx9AV4cu1IchXXh8FNxamHdBUnie2DGhhK/2MDKRB9hbImo1b6NE74zMQ54OR2QjMrQn5wVOIamRttrws7AIHfEozVMUs28OscCfQ7rAPxNQnp6NFKwAe1QrX8D6i6ZTqU9aIkBPikpJIe00WxWjF+8fMdpdZcwNh4NyPSqYC4wSwTyBYxBq3QD2Uk=\",\"ak.pv\":\"86\",\"ak.dpoabenc\":\"\",\"ak.tf\":i};if(\"\"!==t)_[\"ak.ruds\"]=t;var o={i:!1,av:function(e){var t=\"http.initiator\";if(e&&(!e[t]||\"spa_hard\"===e[t]))_[\"ak.feo\"]=void 0!==a.aFeoApplied?1:0,BOOMR.addVar(_)},rv:function(){var a=[\"ak.bpcip\",\"ak.cport\",\"ak.cr\",\"ak.csrc\",\"ak.gh\",\"ak.ipv\",\"ak.m\",\"ak.n\",\"ak.ol\",\"ak.proto\",\"ak.quicv\",\"ak.tlsv\",\"ak.0rtt\",\"ak.r\",\"ak.acc\",\"ak.t\",\"ak.tf\"];BOOMR.removeVar(a)}};BOOMR.plugins.AK={akVars:_,akDNSPreFetchDomain:n,init:function(){if(!o.i){var a=BOOMR.subscribe;a(\"before_beacon\",o.av,null,null),a(\"onbeacon\",o.rv,null,null),o.i=!0}return this},is_complete:function(){return!0}}}}()}(window);</script></head>\n",
      "<body>\n",
      "<header class=\"header\">\n",
      "<div class=\"logo-search\">\n",
      "<div class=\"mob-btn\"><img alt=\"\" src=\"img/icons/menu.png\"/></div>\n",
      "<div class=\"logo\"><a href=\"index.html\"><img alt=\"\" src=\"img/eci-logo.png\"/></a></div>\n",
      "<div class=\"lft-menu\">\n",
      "</div>\n",
      "</div>\n",
      "</header>\n",
      "<div class=\"dis-info\">\n",
      "<div class=\"container-fluid\">\n",
      "<div class=\"d-flex align-items-center justify-content-center\">\n",
      "<h6 class=\"mb-0 mx-2\">Disclaimer:</h6>\n",
      "<p class=\"mb-0\"> ECI is displaying the information as being filled in the system by the Returning Officers from their respective Counting Centres.The final data for each AC/PC will be shared in Form-20.</p>\n",
      "</div>\n",
      "</div>\n",
      "</div><!-- End of dis-info Div -->\n",
      "<main class=\"inner-content\">\n",
      "<div class=\"page-title\">\n",
      "<h1>General Election to Parliamentary/Assembly Constituencies: Trends &amp; Results June-2024</h1>\n",
      "</div>\n",
      "<div class=\"container-fluid\">\n",
      "<section class=\"state-wrap\">\n",
      "<div class=\"container\">\n",
      "<div class=\"row justify-content-center\">\n",
      "<div class=\"col-md-12 col-12\">\n",
      "<div class=\"state-item blue-bg pc-wrap\">\n",
      "<a href=\"https://results.eci.gov.in/PcResultGenJune2024/index.htm\" target=\"_blank\">\n",
      "<h2 style=\"text-transform: capitalize !important;font-size: 3.55rem !important;\">Parliamentary Constituencies</h2>\n",
      "<h1 style=\"font-size: 3.55rem !important;\">543</h1>\n",
      "</a>\n",
      "</div>\n",
      "</div>\n",
      "<div class=\"col-md-4 col-12\">\n",
      "<div class=\"state-item olive-bg\">\n",
      "<a href=\"https://results.eci.gov.in/AcResultGenJune2024/index.htm\" target=\"_blank\">\n",
      "<h2>Andhra Pradesh</h2>\n",
      "<h1>175</h1>\n",
      "<h5>Assembly Constituencies</h5>\n",
      "</a>\n",
      "</div>\n",
      "</div>\n",
      "<div class=\"col-md-4 col-12\">\n",
      "<div class=\"state-item pine-bg\">\n",
      "<a href=\"https://results.eci.gov.in/AcResultGenJune2024/index.htm\" target=\"_blank\">\n",
      "<h2>Odisha</h2>\n",
      "<h1>147</h1>\n",
      "<h5>Assembly Constituencies</h5>\n",
      "</a>\n",
      "</div>\n",
      "</div>\n",
      "<div class=\"col-md-4 col-12\">\n",
      "<div class=\"state-item gry-bg\">\n",
      "<a href=\"https://results.eci.gov.in/AcResultByeJune2024/\" target=\"_blank\">\n",
      "<h2>Bye Elections</h2>\n",
      "<h1>25</h1>\n",
      "<h5>Assembly Constituencies</h5>\n",
      "</a>\n",
      "</div>\n",
      "</div>\n",
      "<div class=\"col-md-6 col-12\"><a class=\"btn btn-primary\" href=\"https://results.eci.gov.in/AcResultGen2ndJune2024/index.htm\" style=\"width: 100%;font-size: 1.5rem;\" target=\"_blank\">Arunachal Pradesh</a></div>\n",
      "<div class=\"col-md-6 col-12\"><a class=\"btn btn-primary\" href=\"https://results.eci.gov.in/AcResultGen2ndJune2024/index.htm\" style=\"width: 100%;font-size: 1.5rem;\" target=\"_blank\">Sikkim</a></div>\n",
      "</div>\n",
      "</div>\n",
      "</section>\n",
      "</div><!-- End of container-fluid Div -->\n",
      "</main>\n",
      "<footer class=\"footer\">\n",
      "<div class=\"foot-info\">\n",
      "<div class=\"container-fluid\">\n",
      "<div class=\"row\">\n",
      "<div class=\"col-md-6 col-12\">\n",
      "<h6 class=\"mb-1\">Download Voter helpline app to see results on mobile</h6>\n",
      "</div>\n",
      "<div class=\"col-md-6 col-12\">\n",
      "<ul class=\"d-flex align-items-center items-end\">\n",
      "<li><a href=\"https://play.google.com/store/apps/details?id=com.eci.citizen\" target=\"_blank\"><img alt=\"\" src=\"img/icons/android.png\"/></a></li>\n",
      "<li><a href=\"https://apps.apple.com/in/app/voter-helpline/id1456535004\" target=\"_blank\"><img alt=\"\" src=\"img/icons/apple.png\"/></a></li>\n",
      "</ul>\n",
      "</div>\n",
      "</div>\n",
      "</div>\n",
      "</div>\n",
      "</footer>\n",
      "<!-- Optional JavaScript; choose one of the two! -->\n",
      "<script src=\"js/jquery-3.6.0.min.js\" type=\"text/javascript\"></script>\n",
      "<!-- Option 1: Bootstrap Bundle with Popper -->\n",
      "<script src=\"js/bootstrap.bundle.min.js\" type=\"text/javascript\"></script>\n",
      "<!-- Option 3: Custom jQuery Lab -->\n",
      "<script src=\"js/custom-jQuery.js\" type=\"text/javascript\"></script>\n",
      "</body>\n",
      "</html>\n"
     ]
    }
   ],
   "source": [
    "print(soup)"
   ]
  },
  {
   "cell_type": "code",
   "execution_count": 13,
   "id": "051c52e4-5707-4153-a28a-51a9a75c64bb",
   "metadata": {},
   "outputs": [
    {
     "name": "stdout",
     "output_type": "stream",
     "text": [
      "Page Title: Election Commission of India\n"
     ]
    }
   ],
   "source": [
    "page_title = soup.title.string if soup.title else \"No Title Found\"\n",
    "print(f\"Page Title: {page_title}\")"
   ]
  },
  {
   "cell_type": "code",
   "execution_count": 14,
   "id": "3740c312-c563-40b0-9ed8-db301501cbfa",
   "metadata": {},
   "outputs": [
    {
     "name": "stdout",
     "output_type": "stream",
     "text": [
      "Main Heading: General Election to Parliamentary/Assembly Constituencies: Trends & Results June-2024\n"
     ]
    }
   ],
   "source": [
    "main_heading = soup.find('div', class_='page-title')\n",
    "main_heading_text = main_heading.h1.string if main_heading and main_heading.h1 else \"No Main Heading Found\"\n",
    "print(f\"Main Heading: {main_heading_text}\")"
   ]
  },
  {
   "cell_type": "code",
   "execution_count": 15,
   "id": "4f6bb16f-2f5d-4740-bc68-ea55cb49a2a4",
   "metadata": {},
   "outputs": [
    {
     "name": "stdout",
     "output_type": "stream",
     "text": [
      "Disclaimer:  ECI is displaying the information as being filled in the system by the Returning Officers from their respective Counting Centres.The final data for each AC/PC will be shared in Form-20.\n"
     ]
    }
   ],
   "source": [
    "disclaimer = soup.find('div', class_='dis-info')\n",
    "disclaimer_text = disclaimer.p.text if disclaimer and disclaimer.p else \"No Disclaimer Found\"\n",
    "print(f\"Disclaimer: {disclaimer_text}\")"
   ]
  },
  {
   "cell_type": "code",
   "execution_count": 16,
   "id": "e398e266-a998-4ba5-ace3-9480dcb26b3e",
   "metadata": {},
   "outputs": [
    {
     "name": "stdout",
     "output_type": "stream",
     "text": [
      "Parliamentary Constituencies: 543\n"
     ]
    }
   ],
   "source": [
    "parliamentary_info = soup.find('div', class_='state-item blue-bg pc-wrap')\n",
    "if parliamentary_info:\n",
    "    parliamentary_title = parliamentary_info.find('h2').text.strip() if parliamentary_info.find('h2') else \"No Title Found\"\n",
    "    parliamentary_count = parliamentary_info.find('h1').text.strip() if parliamentary_info.find('h1') else \"No Count Found\"\n",
    "    print(f\"{parliamentary_title}: {parliamentary_count}\")"
   ]
  },
  {
   "cell_type": "code",
   "execution_count": 17,
   "id": "f19dc765-cd2c-40c7-a5e1-11d80cd96438",
   "metadata": {},
   "outputs": [
    {
     "name": "stdout",
     "output_type": "stream",
     "text": [
      "Andhra Pradesh: 175 Assembly Constituencies\n",
      "Odisha: 147 Assembly Constituencies\n",
      "Bye Elections: 25 Assembly Constituencies\n"
     ]
    }
   ],
   "source": [
    "state_info = soup.find_all('div', class_='state-item')\n",
    "for state in state_info[1:]:  # Skipping the first item as it's for parliamentary constituencies\n",
    "    state_name = state.find('h2').text.strip() if state.find('h2') else \"No State Name Found\"\n",
    "    state_count = state.find('h1').text.strip() if state.find('h1') else \"No State Count Found\"\n",
    "    state_type = state.find('h5').text.strip() if state.find('h5') else \"\"\n",
    "    print(f\"{state_name}: {state_count} {state_type}\")"
   ]
  },
  {
   "cell_type": "code",
   "execution_count": 23,
   "id": "935b3f88-33db-4e2d-a807-80ac0b189936",
   "metadata": {},
   "outputs": [
    {
     "name": "stdout",
     "output_type": "stream",
     "text": [
      "Arunachal Pradesh Link: https://results.eci.gov.in/AcResultGen2ndJune2024/index.htm\n"
     ]
    }
   ],
   "source": [
    "arunachal_link = soup.find('a', string='Arunachal Pradesh')\n",
    "arunachal_link_href = arunachal_link['href'] if arunachal_link else \"No Link Found\"\n",
    "print(f\"Arunachal Pradesh Link: {arunachal_link_href}\")"
   ]
  },
  {
   "cell_type": "code",
   "execution_count": 24,
   "id": "385dd165-af3c-4628-9e14-eeff86ba64b2",
   "metadata": {},
   "outputs": [
    {
     "name": "stdout",
     "output_type": "stream",
     "text": [
      "Sikkim Link: https://results.eci.gov.in/AcResultGen2ndJune2024/index.htm\n"
     ]
    }
   ],
   "source": [
    "sikkim_link = soup.find('a', string='Sikkim')\n",
    "sikkim_link_href = sikkim_link['href'] if sikkim_link else \"No Link Found\"\n",
    "print(f\"Sikkim Link: {sikkim_link_href}\")"
   ]
  },
  {
   "cell_type": "code",
   "execution_count": 25,
   "id": "2a6743fe-deaf-4784-bf3d-189cb3eca449",
   "metadata": {},
   "outputs": [],
   "source": [
    "import matplotlib.pyplot as plt"
   ]
  },
  {
   "cell_type": "code",
   "execution_count": 26,
   "id": "a2b2714b-fd54-4bef-a742-80f07f067c61",
   "metadata": {},
   "outputs": [],
   "source": [
    "parliamentary_constituencies = 543\n",
    "states = ['Andhra Pradesh', 'Odisha', 'Bye Elections']\n",
    "assembly_constituencies = [175, 147, 25]"
   ]
  },
  {
   "cell_type": "code",
   "execution_count": 27,
   "id": "55665b01-1f6c-484f-8fc9-6f76ce255f4d",
   "metadata": {},
   "outputs": [
    {
     "data": {
      "text/plain": [
       "<Figure size 1000x600 with 0 Axes>"
      ]
     },
     "execution_count": 27,
     "metadata": {},
     "output_type": "execute_result"
    },
    {
     "data": {
      "text/plain": [
       "<Figure size 1000x600 with 0 Axes>"
      ]
     },
     "metadata": {},
     "output_type": "display_data"
    }
   ],
   "source": [
    "plt.figure(figsize=(10, 6))"
   ]
  },
  {
   "cell_type": "code",
   "execution_count": 31,
   "id": "6e5c470c-766c-42da-8071-e79eb147a958",
   "metadata": {},
   "outputs": [
    {
     "data": {
      "image/png": "[encoded data removed]",
      "text/plain": [
       "<Figure size 640x480 with 1 Axes>"
      ]
     },
     "metadata": {},
     "output_type": "display_data"
    }
   ],
   "source": [
    "plt.barh('Parliamentary Constituencies', parliamentary_constituencies, color='blue', alpha=0.6)\n",
    "for i, state in enumerate(states):\n",
    "    plt.barh(state, assembly_constituencies[i], color='green', alpha=0.6)\n",
    "\n",
    "plt.title('Election Overview: Constituencies')\n",
    "plt.xlabel('Number of Constituencies')\n",
    "plt.grid(axis='x', linestyle='--')\n",
    "\n",
    "plt.tight_layout()\n",
    "plt.show()"
   ]
  }
 ],
 "metadata": {
  "kernelspec": {
   "display_name": "Python 3 (ipykernel)",
   "language": "python",
   "name": "python3"
  },
  "language_info": {
   "codemirror_mode": {
    "name": "ipython",
    "version": 3
   },
   "file_extension": ".py",
   "mimetype": "text/x-python",
   "name": "python",
   "nbconvert_exporter": "python",
   "pygments_lexer": "ipython3",
   "version": "3.11.7"
  }
 },
 "nbformat": 4,
 "nbformat_minor": 5
}
